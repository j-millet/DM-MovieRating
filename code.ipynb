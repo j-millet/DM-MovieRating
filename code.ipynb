{
 "cells": [
  {
   "cell_type": "markdown",
   "metadata": {},
   "source": [
    "## Libraries\n"
   ]
  },
  {
   "cell_type": "code",
   "execution_count": 1,
   "metadata": {},
   "outputs": [],
   "source": [
    "import pandas as pd\n",
    "import matplotlib.pyplot as plt\n",
    "\n",
    "from sklearn.metrics import mean_squared_error\n",
    "from sklearn.model_selection import train_test_split\n",
    "\n",
    "from MovieRatingEstimator import MovieRatingEstimator\n",
    "\n",
    "import seaborn as sns"
   ]
  },
  {
   "cell_type": "markdown",
   "metadata": {},
   "source": [
    "## Load data"
   ]
  },
  {
   "cell_type": "code",
   "execution_count": 2,
   "metadata": {},
   "outputs": [],
   "source": [
    "ratings_path='data/ratings.csv'\n",
    "movies_path='data/movies.csv'"
   ]
  },
  {
   "cell_type": "code",
   "execution_count": 3,
   "metadata": {},
   "outputs": [
    {
     "data": {
      "text/html": [
       "<div>\n",
       "<style scoped>\n",
       "    .dataframe tbody tr th:only-of-type {\n",
       "        vertical-align: middle;\n",
       "    }\n",
       "\n",
       "    .dataframe tbody tr th {\n",
       "        vertical-align: top;\n",
       "    }\n",
       "\n",
       "    .dataframe thead th {\n",
       "        text-align: right;\n",
       "    }\n",
       "</style>\n",
       "<table border=\"1\" class=\"dataframe\">\n",
       "  <thead>\n",
       "    <tr style=\"text-align: right;\">\n",
       "      <th></th>\n",
       "      <th>userId</th>\n",
       "      <th>movieId</th>\n",
       "      <th>rating</th>\n",
       "    </tr>\n",
       "  </thead>\n",
       "  <tbody>\n",
       "    <tr>\n",
       "      <th>0</th>\n",
       "      <td>1</td>\n",
       "      <td>1</td>\n",
       "      <td>4.0</td>\n",
       "    </tr>\n",
       "    <tr>\n",
       "      <th>1</th>\n",
       "      <td>1</td>\n",
       "      <td>110</td>\n",
       "      <td>4.0</td>\n",
       "    </tr>\n",
       "    <tr>\n",
       "      <th>2</th>\n",
       "      <td>1</td>\n",
       "      <td>158</td>\n",
       "      <td>4.0</td>\n",
       "    </tr>\n",
       "    <tr>\n",
       "      <th>3</th>\n",
       "      <td>1</td>\n",
       "      <td>260</td>\n",
       "      <td>4.5</td>\n",
       "    </tr>\n",
       "    <tr>\n",
       "      <th>4</th>\n",
       "      <td>1</td>\n",
       "      <td>356</td>\n",
       "      <td>5.0</td>\n",
       "    </tr>\n",
       "    <tr>\n",
       "      <th>...</th>\n",
       "      <td>...</td>\n",
       "      <td>...</td>\n",
       "      <td>...</td>\n",
       "    </tr>\n",
       "    <tr>\n",
       "      <th>33832157</th>\n",
       "      <td>330975</td>\n",
       "      <td>8340</td>\n",
       "      <td>2.0</td>\n",
       "    </tr>\n",
       "    <tr>\n",
       "      <th>33832158</th>\n",
       "      <td>330975</td>\n",
       "      <td>8493</td>\n",
       "      <td>2.5</td>\n",
       "    </tr>\n",
       "    <tr>\n",
       "      <th>33832159</th>\n",
       "      <td>330975</td>\n",
       "      <td>8622</td>\n",
       "      <td>4.0</td>\n",
       "    </tr>\n",
       "    <tr>\n",
       "      <th>33832160</th>\n",
       "      <td>330975</td>\n",
       "      <td>8665</td>\n",
       "      <td>3.0</td>\n",
       "    </tr>\n",
       "    <tr>\n",
       "      <th>33832161</th>\n",
       "      <td>330975</td>\n",
       "      <td>8783</td>\n",
       "      <td>2.5</td>\n",
       "    </tr>\n",
       "  </tbody>\n",
       "</table>\n",
       "<p>33832162 rows × 3 columns</p>\n",
       "</div>"
      ],
      "text/plain": [
       "          userId  movieId  rating\n",
       "0              1        1     4.0\n",
       "1              1      110     4.0\n",
       "2              1      158     4.0\n",
       "3              1      260     4.5\n",
       "4              1      356     5.0\n",
       "...          ...      ...     ...\n",
       "33832157  330975     8340     2.0\n",
       "33832158  330975     8493     2.5\n",
       "33832159  330975     8622     4.0\n",
       "33832160  330975     8665     3.0\n",
       "33832161  330975     8783     2.5\n",
       "\n",
       "[33832162 rows x 3 columns]"
      ]
     },
     "execution_count": 3,
     "metadata": {},
     "output_type": "execute_result"
    }
   ],
   "source": [
    "ratings = pd.read_csv(ratings_path).drop('timestamp', axis=1)\n",
    "ratings"
   ]
  },
  {
   "cell_type": "code",
   "execution_count": 4,
   "metadata": {},
   "outputs": [
    {
     "data": {
      "text/html": [
       "<div>\n",
       "<style scoped>\n",
       "    .dataframe tbody tr th:only-of-type {\n",
       "        vertical-align: middle;\n",
       "    }\n",
       "\n",
       "    .dataframe tbody tr th {\n",
       "        vertical-align: top;\n",
       "    }\n",
       "\n",
       "    .dataframe thead th {\n",
       "        text-align: right;\n",
       "    }\n",
       "</style>\n",
       "<table border=\"1\" class=\"dataframe\">\n",
       "  <thead>\n",
       "    <tr style=\"text-align: right;\">\n",
       "      <th></th>\n",
       "      <th>movieId</th>\n",
       "      <th>title</th>\n",
       "      <th>genres</th>\n",
       "    </tr>\n",
       "  </thead>\n",
       "  <tbody>\n",
       "    <tr>\n",
       "      <th>0</th>\n",
       "      <td>1</td>\n",
       "      <td>Toy Story (1995)</td>\n",
       "      <td>Adventure|Animation|Children|Comedy|Fantasy</td>\n",
       "    </tr>\n",
       "    <tr>\n",
       "      <th>1</th>\n",
       "      <td>2</td>\n",
       "      <td>Jumanji (1995)</td>\n",
       "      <td>Adventure|Children|Fantasy</td>\n",
       "    </tr>\n",
       "    <tr>\n",
       "      <th>2</th>\n",
       "      <td>3</td>\n",
       "      <td>Grumpier Old Men (1995)</td>\n",
       "      <td>Comedy|Romance</td>\n",
       "    </tr>\n",
       "    <tr>\n",
       "      <th>3</th>\n",
       "      <td>4</td>\n",
       "      <td>Waiting to Exhale (1995)</td>\n",
       "      <td>Comedy|Drama|Romance</td>\n",
       "    </tr>\n",
       "    <tr>\n",
       "      <th>4</th>\n",
       "      <td>5</td>\n",
       "      <td>Father of the Bride Part II (1995)</td>\n",
       "      <td>Comedy</td>\n",
       "    </tr>\n",
       "    <tr>\n",
       "      <th>...</th>\n",
       "      <td>...</td>\n",
       "      <td>...</td>\n",
       "      <td>...</td>\n",
       "    </tr>\n",
       "    <tr>\n",
       "      <th>86532</th>\n",
       "      <td>288967</td>\n",
       "      <td>State of Siege: Temple Attack (2021)</td>\n",
       "      <td>Action|Drama</td>\n",
       "    </tr>\n",
       "    <tr>\n",
       "      <th>86533</th>\n",
       "      <td>288971</td>\n",
       "      <td>Ouija Japan (2021)</td>\n",
       "      <td>Action|Horror</td>\n",
       "    </tr>\n",
       "    <tr>\n",
       "      <th>86534</th>\n",
       "      <td>288975</td>\n",
       "      <td>The Men Who Made the Movies: Howard Hawks (1973)</td>\n",
       "      <td>Documentary</td>\n",
       "    </tr>\n",
       "    <tr>\n",
       "      <th>86535</th>\n",
       "      <td>288977</td>\n",
       "      <td>Skinford: Death Sentence (2023)</td>\n",
       "      <td>Crime|Thriller</td>\n",
       "    </tr>\n",
       "    <tr>\n",
       "      <th>86536</th>\n",
       "      <td>288983</td>\n",
       "      <td>UNZIPPED: An Autopsy of American Inequality (2...</td>\n",
       "      <td>Documentary</td>\n",
       "    </tr>\n",
       "  </tbody>\n",
       "</table>\n",
       "<p>86537 rows × 3 columns</p>\n",
       "</div>"
      ],
      "text/plain": [
       "       movieId                                              title  \\\n",
       "0            1                                   Toy Story (1995)   \n",
       "1            2                                     Jumanji (1995)   \n",
       "2            3                            Grumpier Old Men (1995)   \n",
       "3            4                           Waiting to Exhale (1995)   \n",
       "4            5                 Father of the Bride Part II (1995)   \n",
       "...        ...                                                ...   \n",
       "86532   288967               State of Siege: Temple Attack (2021)   \n",
       "86533   288971                                 Ouija Japan (2021)   \n",
       "86534   288975   The Men Who Made the Movies: Howard Hawks (1973)   \n",
       "86535   288977                    Skinford: Death Sentence (2023)   \n",
       "86536   288983  UNZIPPED: An Autopsy of American Inequality (2...   \n",
       "\n",
       "                                            genres  \n",
       "0      Adventure|Animation|Children|Comedy|Fantasy  \n",
       "1                       Adventure|Children|Fantasy  \n",
       "2                                   Comedy|Romance  \n",
       "3                             Comedy|Drama|Romance  \n",
       "4                                           Comedy  \n",
       "...                                            ...  \n",
       "86532                                 Action|Drama  \n",
       "86533                                Action|Horror  \n",
       "86534                                  Documentary  \n",
       "86535                               Crime|Thriller  \n",
       "86536                                  Documentary  \n",
       "\n",
       "[86537 rows x 3 columns]"
      ]
     },
     "execution_count": 4,
     "metadata": {},
     "output_type": "execute_result"
    }
   ],
   "source": [
    "movies = pd.read_csv(movies_path)\n",
    "movies"
   ]
  },
  {
   "cell_type": "code",
   "execution_count": 5,
   "metadata": {},
   "outputs": [],
   "source": [
    "train, test = train_test_split(ratings, test_size=0.001,random_state=0)"
   ]
  },
  {
   "cell_type": "markdown",
   "metadata": {},
   "source": [
    "## Evaluate rating estimator"
   ]
  },
  {
   "cell_type": "code",
   "execution_count": 6,
   "metadata": {},
   "outputs": [],
   "source": [
    "mre = MovieRatingEstimator()"
   ]
  },
  {
   "cell_type": "markdown",
   "metadata": {},
   "source": [
    "##### Getting a baseline MSE\n",
    "We will treat predicting the mean of all movie ratings as the baseline"
   ]
  },
  {
   "cell_type": "code",
   "execution_count": 7,
   "metadata": {},
   "outputs": [
    {
     "name": "stderr",
     "output_type": "stream",
     "text": [
      "c:\\Python310\\lib\\site-packages\\sklearn\\preprocessing\\_discretization.py:248: FutureWarning: In version 1.5 onwards, subsample=200_000 will be used by default. Set subsample explicitly to silence this warning in the mean time. Set subsample=None to disable subsampling explicitly.\n",
      "  warnings.warn(\n"
     ]
    },
    {
     "name": "stdout",
     "output_type": "stream",
     "text": [
      "Collecting feature averages for each user...\n",
      "\tFeature: (no genres listed)\n",
      "\tFeature: Action\n",
      "\tFeature: Adventure\n",
      "\tFeature: Animation\n",
      "\tFeature: Children\n",
      "\tFeature: Comedy\n",
      "\tFeature: Crime\n",
      "\tFeature: Documentary\n",
      "\tFeature: Drama\n",
      "\tFeature: Fantasy\n",
      "\tFeature: Film-Noir\n",
      "\tFeature: Horror\n",
      "\tFeature: IMAX\n",
      "\tFeature: Musical\n",
      "\tFeature: Mystery\n",
      "\tFeature: Romance\n",
      "\tFeature: Sci-Fi\n",
      "\tFeature: Thriller\n",
      "\tFeature: War\n",
      "\tFeature: Western\n",
      "\tFeature: year_0.0\n",
      "\tFeature: year_1.0\n",
      "\tFeature: year_2.0\n",
      "\tFeature: year_3.0\n",
      "\tFeature: year_4.0\n",
      "Done :)\n",
      "Baseline MSE (prediction of global mean): 0.05612010813364395\n"
     ]
    }
   ],
   "source": [
    "\n",
    "mre.fit(train,movies,n_clusters=1,verbose=True)\n",
    "test_cpy = test.copy()\n",
    "\n",
    "test_cpy['rating'] = mre.scaler.transform(test_cpy['rating'].values.reshape(-1,1))\n",
    "test_cpy['predicted_rating'] = test_cpy.apply(lambda x: mre.global_mean,axis=1)\n",
    "mse = mean_squared_error(test_cpy['rating'],test_cpy['predicted_rating'])\n",
    "print(f\"Baseline MSE (prediction of global mean): {mse}\")\n"
   ]
  },
  {
   "cell_type": "markdown",
   "metadata": {},
   "source": [
    "##### K value tests\n",
    "See how many clusters are best"
   ]
  },
  {
   "cell_type": "code",
   "execution_count": 8,
   "metadata": {},
   "outputs": [
    {
     "name": "stdout",
     "output_type": "stream",
     "text": [
      "K=1, MSE=0.04630768129328536\n",
      "K=3, MSE=0.039712698539355246\n",
      "K=5, MSE=0.0388340652239941\n",
      "K=7, MSE=0.038700796518337514\n",
      "K=9, MSE=0.03841333267973151\n",
      "K=11, MSE=0.03829988628889153\n",
      "K=13, MSE=0.038191659270263655\n",
      "K=15, MSE=0.03814637435386054\n",
      "K=17, MSE=0.03827938976559852\n",
      "K=19, MSE=0.03814875161963327\n",
      "K=21, MSE=0.03831102060612177\n",
      "K=23, MSE=0.038268322074502585\n",
      "K=25, MSE=0.038250959849629396\n",
      "K=27, MSE=0.03827158702454151\n",
      "K=29, MSE=0.03824316497102219\n",
      "K=31, MSE=0.03841893650511165\n",
      "K=33, MSE=0.03844938938744321\n",
      "K=35, MSE=0.03846294229771472\n",
      "K=37, MSE=0.0383049377994991\n",
      "K=39, MSE=0.03838275555217986\n",
      "K=41, MSE=0.03835365823801215\n",
      "K=43, MSE=0.038490701340281666\n",
      "K=45, MSE=0.03860453875638069\n",
      "K=47, MSE=0.03848773886944572\n",
      "K=49, MSE=0.03858488961950332\n",
      "K=51, MSE=0.0384573124601915\n"
     ]
    }
   ],
   "source": [
    "x,y = [],[]\n",
    "for k in range(1,52,2):\n",
    "    mre.fit(train,movies,n_clusters=k,verbose=True)\n",
    "   \n",
    "    test_cpy = test.copy()\n",
    "    test_cpy['rating'] = mre.scaler.transform(test_cpy['rating'].values.reshape(-1,1))\n",
    "    test_cpy['predicted_rating'] = test_cpy.apply(lambda x: mre.get_rating_estimate(x['userId'],x['movieId']),axis=1)\n",
    "    \n",
    "    test_cpy['error'] = abs(test_cpy['rating'] - test_cpy['predicted_rating'])\n",
    "    mse = mean_squared_error(test_cpy['rating'], test_cpy['predicted_rating'])\n",
    "    print(f\"K={k}, MSE={mse}\")\n",
    "    x.append(k)\n",
    "    y.append(mse)\n",
    "    "
   ]
  },
  {
   "cell_type": "code",
   "execution_count": 9,
   "metadata": {},
   "outputs": [
    {
     "data": {
      "text/plain": [
       "Text(0.5, 0, 'Number of clusters')"
      ]
     },
     "execution_count": 9,
     "metadata": {},
     "output_type": "execute_result"
    },
    {
     "data": {
      "image/png": "[encoded data removed]",
      "text/plain": [
       "<Figure size 640x480 with 1 Axes>"
      ]
     },
     "metadata": {},
     "output_type": "display_data"
    }
   ],
   "source": [
    "sns.lineplot(x=x,y=y)\n",
    "plt.ylabel('MSE')\n",
    "plt.xlabel('Number of clusters')"
   ]
  },
  {
   "cell_type": "markdown",
   "metadata": {},
   "source": [
    "# Predict movie rating by user"
   ]
  },
  {
   "cell_type": "code",
   "execution_count": 11,
   "metadata": {},
   "outputs": [
    {
     "name": "stderr",
     "output_type": "stream",
     "text": [
      "c:\\Python310\\lib\\site-packages\\sklearn\\preprocessing\\_discretization.py:248: FutureWarning: In version 1.5 onwards, subsample=200_000 will be used by default. Set subsample explicitly to silence this warning in the mean time. Set subsample=None to disable subsampling explicitly.\n",
      "  warnings.warn(\n"
     ]
    },
    {
     "name": "stdout",
     "output_type": "stream",
     "text": [
      "Collecting feature averages for each user...\n",
      "\tFeature: (no genres listed)\n",
      "\tFeature: Action\n",
      "\tFeature: Adventure\n",
      "\tFeature: Animation\n",
      "\tFeature: Children\n",
      "\tFeature: Comedy\n",
      "\tFeature: Crime\n",
      "\tFeature: Documentary\n",
      "\tFeature: Drama\n",
      "\tFeature: Fantasy\n",
      "\tFeature: Film-Noir\n",
      "\tFeature: Horror\n",
      "\tFeature: IMAX\n",
      "\tFeature: Musical\n",
      "\tFeature: Mystery\n",
      "\tFeature: Romance\n",
      "\tFeature: Sci-Fi\n",
      "\tFeature: Thriller\n",
      "\tFeature: War\n",
      "\tFeature: Western\n",
      "\tFeature: year_0.0\n",
      "\tFeature: year_1.0\n",
      "\tFeature: year_2.0\n",
      "\tFeature: year_3.0\n",
      "\tFeature: year_4.0\n",
      "Done :)\n"
     ]
    }
   ],
   "source": [
    "mre = MovieRatingEstimator()\n",
    "mre.fit(train,movies,n_clusters=15,verbose=True)\n"
   ]
  },
  {
   "cell_type": "code",
   "execution_count": 15,
   "metadata": {},
   "outputs": [
    {
     "name": "stdout",
     "output_type": "stream",
     "text": [
      "We predict that the user 1 will rate movie 1 at 4.5\n"
     ]
    }
   ],
   "source": [
    "userId = 1\n",
    "movieId = 1\n",
    "\n",
    "predicted_rating = mre.get_rating_estimate_in_scale(userId, movieId)\n",
    "\n",
    "print(f'We predict that the user {userId} will rate movie {movieId} at {predicted_rating}')"
   ]
  }
 ],
 "metadata": {
  "kernelspec": {
   "display_name": "data-mining",
   "language": "python",
   "name": "python3"
  },
  "language_info": {
   "codemirror_mode": {
    "name": "ipython",
    "version": 3
   },
   "file_extension": ".py",
   "mimetype": "text/x-python",
   "name": "python",
   "nbconvert_exporter": "python",
   "pygments_lexer": "ipython3",
   "version": "3.10.0"
  }
 },
 "nbformat": 4,
 "nbformat_minor": 2
}
